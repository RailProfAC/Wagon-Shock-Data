{
 "cells": [
  {
   "cell_type": "code",
   "execution_count": null,
   "metadata": {},
   "outputs": [],
   "source": [
    "# Standard imports\n",
    "import numpy as np\n",
    "%matplotlib inline\n",
    "import matplotlib\n",
    "import matplotlib.pyplot as plt\n",
    "import pandas as pd\n",
    "import plotly.offline as po\n",
    "import plotly"
   ]
  },
  {
   "cell_type": "markdown",
   "metadata": {},
   "source": [
    "## Stoßdaten Güterwagen\n",
    "Die DB Cargo AG hat Ihre Güterwagen mit modernen Telematikgeräten ausgerüstet. Verschiedene Sensoren liefern mit regelmäßiger Frequenz und auch eventbasiert Daten.\n",
    "\n",
    "In diesem Datensatz sind Informationen zu größeren Stößen, gemessen durch einen Beschleunigungssensor am Wagen enthalten.\n",
    "\n",
    "- wagonID = Eindeutige ID des Güterwagens\n",
    "- latitude = Geographische Breite\n",
    "- longitude = Geographische Länge\n",
    "- speed = GNSS Geschwindigkeit des Wagens in km/h\n",
    "- delta_timestamp = Messzeitpunkt relativ zu t0\n",
    "- shock_duration = Dauer des Shockereignisses in ms\n",
    "- shock_x_axis = Rohdaten für die x-Achse in g mit 500Hz\n",
    "- x_axis = Max. Amplitude für x-Achse in g\n",
    "- shock_y_axis = Rohdaten für y-Achse in g mit 500Hz\n",
    "- y_axis = Max. Amplitude für y-Achse in g\n",
    "- shock_z_axis = Rohdaten für z-Achse in g mit 500Hz\n",
    "- z_axis = Max. Amplitude für z-Achse in g\n",
    "\n",
    "[Link zur Mobilithek](https://mobilithek.info/offers/573487566471229440)"
   ]
  },
  {
   "cell_type": "code",
   "execution_count": null,
   "metadata": {
    "scrolled": true
   },
   "outputs": [],
   "source": [
    "# Load data - Attention: 1.8 GB!\n",
    "# Online data - Mobilithek doesn't allow download via pandas\n",
    "!wget https://mobilithek.info/mdp-api/files/aux/573487566471229440/ShockData.csv\n",
    "# Local data\n",
    "df = pd.read_csv('ShockData.csv')\n",
    "df.head()"
   ]
  },
  {
   "cell_type": "markdown",
   "metadata": {},
   "source": [
    "### Methode zur Darstellung von Fourier-Transformierten"
   ]
  },
  {
   "cell_type": "code",
   "execution_count": null,
   "metadata": {},
   "outputs": [],
   "source": [
    "def fftplot(x, ax, label, T, log = True, window = True):\n",
    "    X = np.abs(np.fft.fft(x))\n",
    "    n = len(X)\n",
    "    if window:\n",
    "        w = np.hamming(n)\n",
    "        X = np.multiply(X,w)\n",
    "    F = np.fft.fftfreq(n, d=T)\n",
    "    if log:\n",
    "        ax.semilogy(F[0:int(np.floor(n/2))], X[0:int(np.floor(n/2))], label = label)\n",
    "    else:\n",
    "        ax.plot(F[0:int(np.floor(n/2))], X[0:int(np.floor(n/2))], label = label)\n",
    "    ax.grid()"
   ]
  },
  {
   "cell_type": "markdown",
   "metadata": {},
   "source": [
    "### Übersichtsplot eines Stoßes in drei Achsen und den Fourier-Transformierten"
   ]
  },
  {
   "cell_type": "code",
   "execution_count": null,
   "metadata": {
    "code_folding": []
   },
   "outputs": [],
   "source": [
    "ax = plt.figure(figsize = (10,10))\n",
    "ind = df[df['shock_duration'] >= 910].index\n",
    "for i in ind:\n",
    "    str1 = df.iloc[i]['shock_x_axis']\n",
    "    if isinstance(str1, str):\n",
    "        l = str1.split(',')\n",
    "        y = list(map(float,l[0:-2]))\n",
    "        plt.subplot(3,2,1)\n",
    "        plt.plot(y, label = '$x$')\n",
    "        plt.legend()\n",
    "        # FFT transformation of variable\n",
    "        ax2 = plt.subplot(3,2,2)\n",
    "        fftplot(y, ax2, '$\\mathcal{F}(x)$', 1/500, log = True)\n",
    "        plt.legend()\n",
    "plt.subplot(3,2,3)\n",
    "for i in ind:\n",
    "    str1 = df.iloc[i]['shock_y_axis']\n",
    "    if isinstance(str1, str):\n",
    "        l = str1.split(',')\n",
    "        y = list(map(float,l[0:-2]))\n",
    "        plt.plot(y, label = '$y$')\n",
    "        plt.legend()\n",
    "        ax4 = plt.subplot(3,2,4)\n",
    "        fftplot(y, ax4, '$\\mathcal{F}(y)$', 1/500, log = True)\n",
    "        plt.legend()\n",
    "plt.subplot(3,2,5)\n",
    "for i in ind:\n",
    "    str1 = df.iloc[i]['shock_z_axis']\n",
    "    if isinstance(str1, str):\n",
    "        l = str1.split(',')\n",
    "        y = list(map(float,l[0:-2]))\n",
    "        plt.plot(y, label = '$z$')\n",
    "        plt.legend()\n",
    "        ax6 = plt.subplot(3,2,6)\n",
    "        fftplot(y, ax6, '$\\mathcal{F}(x)$', 1/500, log = True)\n",
    "        plt.legend()\n",
    "plt.savefig('FFTxyz.png', dpi = 600, bbox_inches='tight',\n",
    "           transparent = True)"
   ]
  },
  {
   "cell_type": "markdown",
   "metadata": {},
   "source": [
    "## Flachstellenerkennung\n",
    "\n",
    "Auf Grundlage der Frequenz einer Flachstelle werden die Fouriertransformierte und das betreffende Frequenzfenster dargestellt. Eine höhere Amplitude kann auf Flachstellen hinweisen.\n",
    "\n",
    "Es gilt:\n",
    "\n",
    "\\begin{equation*}\n",
    "\tf(v) = \\frac{v}{U} = \\frac{v}{\\pi D},\n",
    "\\end{equation*}\n",
    "also z.B. $f(100\\,\\mathrm{kmh}^{-1}) \\approx 10\\,\\mathrm{Hz}$\n",
    "\n",
    "Das Schwingverhalten der Federstufe wird nicht modelliert."
   ]
  },
  {
   "cell_type": "code",
   "execution_count": null,
   "metadata": {},
   "outputs": [],
   "source": [
    "# Randomly select an index from moving vehicle\n",
    "# Prefer velocities resulting in frequencies \n",
    "i = np.random.choice(df[df['speed'] > 60].index)\n",
    "# Obtain wheel frequency from velocity\n",
    "v = df.iloc[i]['speed']\n",
    "f_flat = v/3.6/(np.pi*0.92)\n",
    "# Obtain vibration data in z-direction\n",
    "str1 = df.iloc[i]['shock_z_axis']\n",
    "if isinstance(str1, str):\n",
    "    l = str1.split(',')\n",
    "    y = list(map(float,l[0:-2]))\n",
    "    #plt.plot(y, label = '$z$')\n",
    "    #plt.legend()\n",
    "    ax = plt.subplot(1,1,1)\n",
    "    fftplot(y, ax, 'FFT($z$)', 1/500, log = True)\n",
    "    ax.set_xlim([0, 5*f_flat])\n",
    "    (y1, y2) = ax.get_ylim()\n",
    "    ax.add_patch(plt.Rectangle((f_flat, 1.1*y1), 0.2*f_flat, 0.9*(y2-y1), ec=\"r\", fc=\"r\"))\n",
    "    plt.legend()\n",
    "    plt.title('I: ' +str(i)+', v: ' + str(v) + ' km/h, f: ' + str(np.round(f_flat, 1)) + ' Hz')\n",
    "plt.savefig('WheelFlat'+ str(i)+'.png', dpi = 600, bbox_inches='tight',\n",
    "           transparent = True)"
   ]
  },
  {
   "cell_type": "code",
   "execution_count": null,
   "metadata": {},
   "outputs": [],
   "source": [
    "ax = plt.subplot(1,1,1)\n",
    "for k in range(10):\n",
    "    #plt.figure()\n",
    "    #ax = plt.subplot(1,1,1)\n",
    "# Randomly select an index from moving vehicle\n",
    "    i = np.random.choice(df[df['speed'] == 100].index)\n",
    "    # Obtain wheel frequency from velocity\n",
    "    v = df.iloc[i]['speed']\n",
    "    f_flat = v/3.6/(np.pi*0.92) # Maximum wheel diameter Y25\n",
    "    # Obtain vibration data in z-direction\n",
    "    str1 = df.iloc[i]['shock_z_axis']\n",
    "    if isinstance(str1, str):\n",
    "        l = str1.split(',')\n",
    "        y = list(map(float,l[0:-2]))\n",
    "        #plt.plot(y, label = '$z$')\n",
    "        #plt.legend()\n",
    "        fftplot(y, ax, df.iloc[i]['wagonID'][2:-2], 1/500, log = True)\n",
    "# Plotting and saving\n",
    "ax.set_xlim([0, 5*f_flat])\n",
    "ax.grid()\n",
    "ax.set_ylim([1e-2, 1e2])\n",
    "(y1, y2) = ax.get_ylim()\n",
    "ax.add_patch(plt.Rectangle((f_flat, 1.1*y1), 0.2*f_flat, 0.9*(y2-y1), ec=\"r\", fc=\"r\"))\n",
    "plt.title('v: ' + str(v) + ' km/h, f: ' + str(np.round(f_flat, 1)) + ' Hz')\n",
    "ax.legend(bbox_to_anchor=(1.04, 1), loc=\"upper left\")\n",
    "plt.savefig('WheelFlat'+ str(i)+'.png', dpi = 600, bbox_inches='tight',\n",
    "            transparent = True)"
   ]
  },
  {
   "cell_type": "markdown",
   "metadata": {},
   "source": [
    "## Geodaten-Plots\n",
    "\n",
    "Einige Plots, um die räumliche Verteilung zu visualisieren."
   ]
  },
  {
   "cell_type": "markdown",
   "metadata": {},
   "source": [
    "### Matplotlib\n",
    "\n",
    "Mit der Standardbibliothek lassen sich Scatterplots erstellen, die nur auf Umwegen mit einem Kartenhintergrund versehen werden können."
   ]
  },
  {
   "cell_type": "code",
   "execution_count": null,
   "metadata": {},
   "outputs": [],
   "source": [
    "s = df['wagonID'].value_counts()\n",
    "spart = s.index.to_list()[1:31]\n",
    "for wID in spart:\n",
    "    x = df[df['wagonID'] == wID]['latitude']\n",
    "    y = df[df['wagonID'] == wID]['longitude']\n",
    "    c = df[df['wagonID'] == wID]['shock_duration']\n",
    "    plt.scatter(x=x, y=y, c = c, cmap = 'RdYlGn')"
   ]
  },
  {
   "cell_type": "markdown",
   "metadata": {},
   "source": [
    "### Plotly\n",
    "\n",
    "Die kommerzielle Bibliothek plotly bietet ein großzügiges Gratisangebot, das für die meisten Gelegenheitsanalysen ausreicht.\n",
    "Sie bietet Kartenhintergründe und verschiedene Projektionen sowie eine Mapbox-Integration."
   ]
  },
  {
   "cell_type": "code",
   "execution_count": null,
   "metadata": {},
   "outputs": [],
   "source": [
    "s = df['wagonID'].value_counts()\n",
    "df2 = df[df['wagonID'].isin(s.index.to_list()[1:101])]\n",
    "data = [ dict(\n",
    "        type = 'scattergeo',\n",
    "        lon = df2['longitude'],\n",
    "        lat = df2['latitude'],\n",
    "        text = df2['x_axis'].abs(),\n",
    "        mode = 'markers',\n",
    "        marker_colorscale=plotly.colors.sequential.Jet,\n",
    "        marker = dict(\n",
    "            opacity = 0.3,\n",
    "            #reversescale = True,\n",
    "            #autocolorscale = False,\n",
    "            #symbol = 'square',\n",
    "            #colorscale = 'Jet',\n",
    "            cmin = 0,\n",
    "            color = df2['x_axis'].abs(),\n",
    "            cmax = 0.5*df2['x_axis'].max(),\n",
    "            #colorbar = dict(\n",
    "            #    titleside = \"right\",\n",
    "            #    outlinecolor = \"rgba(68, 68, 68, 0)\",\n",
    "            #    ticks = \"outside\",\n",
    "                #showticksuffix = \"last\",\n",
    "                #dtick = 0.1\n",
    "        #),   \n",
    "        ))]\n",
    "\n",
    "layout = dict(\n",
    "        #title = 'X-Axis absolute shock values',\n",
    "        geo = dict(\n",
    "            scope = \"europe\",\n",
    "            #showland = True,\n",
    "            resolution = 50,\n",
    "            showcoastlines=True, #coastlinecolor=\"RebeccaPurple\",\n",
    "            showland=True, #landcolor=\"LightGreen\",\n",
    "            showocean=True, oceancolor=\"LightBlue\",\n",
    "            showlakes=True, lakecolor=\"LightBlue\",\n",
    "            showrivers=True, rivercolor=\"LightBlue\",\n",
    "            countrywidth = 0.5,\n",
    "            subunitwidth = 0.5,\n",
    "        ),\n",
    "    )\n",
    "\n",
    "\n",
    "fig = dict(data=data, layout=layout )\n",
    "po.plot(fig, filename='WagonShock.html')"
   ]
  }
 ],
 "metadata": {
  "kernelspec": {
   "display_name": "Python 3 (ipykernel)",
   "language": "python",
   "name": "python3"
  },
  "language_info": {
   "codemirror_mode": {
    "name": "ipython",
    "version": 3
   },
   "file_extension": ".py",
   "mimetype": "text/x-python",
   "name": "python",
   "nbconvert_exporter": "python",
   "pygments_lexer": "ipython3",
   "version": "3.8.18"
  }
 },
 "nbformat": 4,
 "nbformat_minor": 4
}
